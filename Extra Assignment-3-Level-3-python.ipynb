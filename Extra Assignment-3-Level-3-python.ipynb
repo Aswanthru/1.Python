{
 "cells": [
  {
   "cell_type": "code",
   "execution_count": null,
   "id": "6d2fef5b-6003-4f8a-93fc-522b4cc2a1c2",
   "metadata": {},
   "outputs": [],
   "source": [
    "i=int(input(\"enter the number\"))"
   ]
  },
  {
   "cell_type": "code",
   "execution_count": null,
   "id": "2aa9d6ee-7da0-49ac-9b74-f7a0683cf548",
   "metadata": {},
   "outputs": [],
   "source": [
    "print(\"value: 10\")\n",
    "if(i==10):\n",
    "    print(\"correct\")"
   ]
  },
  {
   "cell_type": "code",
   "execution_count": null,
   "id": "6231a9d3-aa45-441d-b348-5195d8de60a7",
   "metadata": {},
   "outputs": [],
   "source": []
  },
  {
   "cell_type": "code",
   "execution_count": 3,
   "id": "61a120a1-cc75-4291-af32-972a71c7a6fe",
   "metadata": {},
   "outputs": [
    {
     "name": "stdout",
     "output_type": "stream",
     "text": [
      "Enter the password: HOPE@123\n",
      "Your password is correct\n"
     ]
    }
   ],
   "source": [
    "password= \"HOPE@123\"\n",
    "print(\"Enter the password: HOPE@123\")\n",
    "if(password == \"HOPE@123\"):\n",
    "    print(\"Your password is correct\")\n",
    "else:\n",
    "    print(\"Your password is incorrect\")"
   ]
  },
  {
   "cell_type": "code",
   "execution_count": null,
   "id": "51f74a1d-0ae0-4cb1-a205-7e28382c7161",
   "metadata": {},
   "outputs": [],
   "source": []
  },
  {
   "cell_type": "code",
   "execution_count": 5,
   "id": "5a6590e1-74ea-4b28-b2ec-16cb17adb995",
   "metadata": {},
   "outputs": [
    {
     "name": "stdin",
     "output_type": "stream",
     "text": [
      "enter the age 20\n"
     ]
    }
   ],
   "source": [
    "age=int(input(\"enter the age\"))"
   ]
  },
  {
   "cell_type": "code",
   "execution_count": 9,
   "id": "576e6606-e22e-4d86-8184-3d59f191b246",
   "metadata": {},
   "outputs": [
    {
     "name": "stdout",
     "output_type": "stream",
     "text": [
      "Adult\n"
     ]
    }
   ],
   "source": [
    "if(age==20):\n",
    "    print(\"Adult\")\n",
    "elif(age>20):\n",
    "    print(\"citizen\")\n",
    "else:\n",
    "    print(\"kid\")"
   ]
  },
  {
   "cell_type": "code",
   "execution_count": null,
   "id": "e06253fa-7c1b-442e-9935-33cbc286d583",
   "metadata": {},
   "outputs": [],
   "source": []
  },
  {
   "cell_type": "code",
   "execution_count": 13,
   "id": "37661fb4-664c-4421-bf7f-328ad972ec86",
   "metadata": {},
   "outputs": [
    {
     "name": "stdin",
     "output_type": "stream",
     "text": [
      "Enter any number: 1\n"
     ]
    },
    {
     "name": "stdout",
     "output_type": "stream",
     "text": [
      "No is positive\n"
     ]
    }
   ],
   "source": [
    "num = int(input(\"Enter any number:\"))\n",
    "if (num > 0):\n",
    "  print(\"No is positive\")\n",
    "elif (num == 0):\n",
    "  print(\"Number is zero\")\n",
    "else:\n",
    "  print(\"Number is negative\")"
   ]
  },
  {
   "cell_type": "code",
   "execution_count": null,
   "id": "50710679-f611-44f0-bdbc-5561718bfea9",
   "metadata": {},
   "outputs": [],
   "source": []
  },
  {
   "cell_type": "code",
   "execution_count": 1,
   "id": "f7a630cf-fdfe-478f-a49e-1856099ec9c0",
   "metadata": {},
   "outputs": [
    {
     "name": "stdin",
     "output_type": "stream",
     "text": [
      "Enter any number: 22\n"
     ]
    },
    {
     "name": "stdout",
     "output_type": "stream",
     "text": [
      " is not divisible by 5\n"
     ]
    }
   ],
   "source": [
    "num = int(input(\"Enter any number:\"))\n",
    "if (num%5 == 0):\n",
    "    print(\"num is not divisible by 5\")\n",
    "else:\n",
    "  print(\" is not divisible by 5\")"
   ]
  }
 ],
 "metadata": {
  "kernelspec": {
   "display_name": "Python [conda env:base] *",
   "language": "python",
   "name": "conda-base-py"
  },
  "language_info": {
   "codemirror_mode": {
    "name": "ipython",
    "version": 3
   },
   "file_extension": ".py",
   "mimetype": "text/x-python",
   "name": "python",
   "nbconvert_exporter": "python",
   "pygments_lexer": "ipython3",
   "version": "3.12.7"
  }
 },
 "nbformat": 4,
 "nbformat_minor": 5
}
