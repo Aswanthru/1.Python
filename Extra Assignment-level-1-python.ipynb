{
 "cells": [
  {
   "cell_type": "code",
   "execution_count": null,
   "id": "5e377b94-31c5-4a18-9b78-d491a2d9ec37",
   "metadata": {},
   "outputs": [],
   "source": [
    "print(\"HOPE AI\")"
   ]
  },
  {
   "cell_type": "code",
   "execution_count": null,
   "id": "823629f7-fcae-49ac-9e94-76fdcfdce38f",
   "metadata": {},
   "outputs": [],
   "source": []
  },
  {
   "cell_type": "code",
   "execution_count": null,
   "id": "6a4080de-a788-421b-9997-824041b6660b",
   "metadata": {},
   "outputs": [],
   "source": [
    "institute= input(\"Enter your institute name?:\")"
   ]
  },
  {
   "cell_type": "code",
   "execution_count": null,
   "id": "2bf83eee-3c9c-4970-bb88-caab27c0c1b3",
   "metadata": {},
   "outputs": [],
   "source": []
  },
  {
   "cell_type": "code",
   "execution_count": null,
   "id": "fbc1bd89-63d5-425e-ac19-2f5ed48c6301",
   "metadata": {},
   "outputs": [],
   "source": [
    "name= input(\"Enter your name:\")\n",
    "age= int(input(\"Enter your age:\"))\n",
    "school= input(\"Enter your school name:\")\n",
    "degree= input(\"Enter your drgree:\")"
   ]
  },
  {
   "cell_type": "code",
   "execution_count": null,
   "id": "3bcdfb66-89ba-40c9-af31-09de369c7f1d",
   "metadata": {},
   "outputs": [],
   "source": [
    "a= 43\n",
    "b= 34\n",
    "add= a+b\n",
    "print(\"a=\",a)\n",
    "print(\"b=\",b)\n",
    "print(\"add=\",add)"
   ]
  },
  {
   "cell_type": "code",
   "execution_count": null,
   "id": "c68924df-eb59-470c-88d8-2874234ad5d2",
   "metadata": {},
   "outputs": [],
   "source": []
  },
  {
   "cell_type": "code",
   "execution_count": null,
   "id": "7e02d14b-6a35-4f02-8a46-668df4bb012e",
   "metadata": {},
   "outputs": [],
   "source": [
    "a= 43\n",
    "b= 34\n",
    "sub= a-b\n",
    "print(\"a=\",a)\n",
    "print(\"b=\",b)\n",
    "print(\"sub=\",sub)"
   ]
  },
  {
   "cell_type": "code",
   "execution_count": null,
   "id": "f96bb57f-33b7-4048-84c1-a2f9381ab2dd",
   "metadata": {},
   "outputs": [],
   "source": []
  },
  {
   "cell_type": "code",
   "execution_count": null,
   "id": "6c2a7ec7-e5ac-4372-8dec-b54b0987d0c6",
   "metadata": {},
   "outputs": [],
   "source": [
    "a= 63\n",
    "b= 97\n",
    "mul= a*b\n",
    "print(\"a=\",a)\n",
    "print(\"b=\",b)\n",
    "print(\"mul=\",mul)"
   ]
  },
  {
   "cell_type": "code",
   "execution_count": null,
   "id": "225338dd-8ac5-49af-81b6-11f83251981c",
   "metadata": {},
   "outputs": [],
   "source": []
  },
  {
   "cell_type": "code",
   "execution_count": null,
   "id": "dae3ea2a-b7fc-4300-8cd3-3a935010a679",
   "metadata": {},
   "outputs": [],
   "source": [
    "a= 76\n",
    "b= 31\n",
    "div= a/b\n",
    "print(\"a=\",a)\n",
    "print(\"b=\",b)\n",
    "print(\"div=\",div)"
   ]
  },
  {
   "cell_type": "code",
   "execution_count": null,
   "id": "69110a74-6d6a-48ad-9b89-841470079a14",
   "metadata": {},
   "outputs": [],
   "source": []
  },
  {
   "cell_type": "code",
   "execution_count": null,
   "id": "44677dac-8f72-460d-8425-488c17dc4c68",
   "metadata": {},
   "outputs": [],
   "source": [
    "a= 76\n",
    "b= 31\n",
    "Fdiv= a//b\n",
    "print(\"a=\",a)\n",
    "print(\"b=\",b)\n",
    "print(\"Fdiv=\",Fdiv)"
   ]
  },
  {
   "cell_type": "code",
   "execution_count": null,
   "id": "80acf777-cec5-4a6b-8b89-2ed4712dca61",
   "metadata": {},
   "outputs": [],
   "source": []
  },
  {
   "cell_type": "code",
   "execution_count": null,
   "id": "b68724cf-ff00-4984-824b-bdffff291ce5",
   "metadata": {},
   "outputs": [],
   "source": [
    "a= 76\n",
    "b= 31\n",
    "modulo= a%b\n",
    "print(\"a=\",a)\n",
    "print(\"b=\",b)\n",
    "print(\"modulo=\",modulo)"
   ]
  },
  {
   "cell_type": "code",
   "execution_count": null,
   "id": "ba3cc208-4c61-4cf3-854b-a760ed0b9101",
   "metadata": {},
   "outputs": [],
   "source": []
  },
  {
   "cell_type": "code",
   "execution_count": 1,
   "id": "8f4527b7-b60d-4407-b78a-f8841bacab64",
   "metadata": {},
   "outputs": [
    {
     "name": "stdout",
     "output_type": "stream",
     "text": [
      "a= 4\n",
      "b= 4\n",
      "power= 256\n"
     ]
    }
   ],
   "source": [
    "a= 4\n",
    "b= 4\n",
    "power= a**b\n",
    "print(\"a=\",a)\n",
    "print(\"b=\",b)\n",
    "print(\"power=\",power)"
   ]
  }
 ],
 "metadata": {
  "kernelspec": {
   "display_name": "Python [conda env:base] *",
   "language": "python",
   "name": "conda-base-py"
  },
  "language_info": {
   "codemirror_mode": {
    "name": "ipython",
    "version": 3
   },
   "file_extension": ".py",
   "mimetype": "text/x-python",
   "name": "python",
   "nbconvert_exporter": "python",
   "pygments_lexer": "ipython3",
   "version": "3.12.7"
  }
 },
 "nbformat": 4,
 "nbformat_minor": 5
}
